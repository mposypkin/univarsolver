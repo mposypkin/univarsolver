{
 "cells": [
  {
   "cell_type": "code",
   "execution_count": 1,
   "id": "7c5d7d43",
   "metadata": {},
   "outputs": [],
   "source": [
    "import uniplot as up\n",
    "import pandas as pd\n",
    "import numpy as np\n",
    "import uvarprob as uvpr\n",
    "import matplotlib.pyplot as plt\n",
    "import solvutil as sut"
   ]
  },
  {
   "cell_type": "code",
   "execution_count": 2,
   "id": "da4a032c",
   "metadata": {},
   "outputs": [],
   "source": [
    "test_file = \"/home/posypkin/tmp/tst.csv\""
   ]
  },
  {
   "cell_type": "code",
   "execution_count": 3,
   "id": "57431414",
   "metadata": {},
   "outputs": [],
   "source": [
    "# Maximal number of steps\n",
    "max_steps = 1e6\n",
    "# Tolerance\n",
    "epsilon = 1e-2\n",
    "# If True - global Lipschitz constant is used\n",
    "global_lipschitz_interval = True\n",
    "# If True - the record value is taken from the test database\n",
    "known_record = False\n",
    "# How many points to skip in vizualization - regular step\n",
    "skip = 500"
   ]
  },
  {
   "cell_type": "code",
   "execution_count": 4,
   "id": "0a503d18",
   "metadata": {},
   "outputs": [],
   "source": [
    "def read_problems(fname):\n",
    "    data = pd.read_csv(fname, index_col = 'name', comment = '#')\n",
    "    return data"
   ]
  },
  {
   "cell_type": "code",
   "execution_count": 5,
   "id": "ea8c08bf",
   "metadata": {},
   "outputs": [
    {
     "data": {
      "text/html": [
       "<div>\n",
       "<style scoped>\n",
       "    .dataframe tbody tr th:only-of-type {\n",
       "        vertical-align: middle;\n",
       "    }\n",
       "\n",
       "    .dataframe tbody tr th {\n",
       "        vertical-align: top;\n",
       "    }\n",
       "\n",
       "    .dataframe thead th {\n",
       "        text-align: right;\n",
       "    }\n",
       "</style>\n",
       "<table border=\"1\" class=\"dataframe\">\n",
       "  <thead>\n",
       "    <tr style=\"text-align: right;\">\n",
       "      <th></th>\n",
       "      <th>objective</th>\n",
       "      <th>a</th>\n",
       "      <th>b</th>\n",
       "      <th>min_f</th>\n",
       "      <th>min_x</th>\n",
       "    </tr>\n",
       "    <tr>\n",
       "      <th>name</th>\n",
       "      <th></th>\n",
       "      <th></th>\n",
       "      <th></th>\n",
       "      <th></th>\n",
       "      <th></th>\n",
       "    </tr>\n",
       "  </thead>\n",
       "  <tbody>\n",
       "    <tr>\n",
       "      <th>rshekel_0</th>\n",
       "      <td>1./(7.26231 * (10. * x - 1.34364)^2 + 0.25275)...</td>\n",
       "      <td>0</td>\n",
       "      <td>1</td>\n",
       "      <td>0.53993</td>\n",
       "      <td>0.42147</td>\n",
       "    </tr>\n",
       "  </tbody>\n",
       "</table>\n",
       "</div>"
      ],
      "text/plain": [
       "                                                   objective  a  b    min_f  \\\n",
       "name                                                                          \n",
       "rshekel_0  1./(7.26231 * (10. * x - 1.34364)^2 + 0.25275)...  0  1  0.53993   \n",
       "\n",
       "             min_x  \n",
       "name                \n",
       "rshekel_0  0.42147  "
      ]
     },
     "execution_count": 5,
     "metadata": {},
     "output_type": "execute_result"
    }
   ],
   "source": [
    "df = read_problems(test_file)\n",
    "df"
   ]
  },
  {
   "cell_type": "code",
   "execution_count": 18,
   "id": "8d88eefa",
   "metadata": {},
   "outputs": [],
   "source": [
    "psqe_lipint_points_list =  []\n",
    "psqe_lip_points_list = []"
   ]
  },
  {
   "cell_type": "code",
   "execution_count": 19,
   "id": "67100fbe",
   "metadata": {},
   "outputs": [],
   "source": [
    "def log_point(x, points_list):\n",
    "    points_list.append(x)"
   ]
  },
  {
   "cell_type": "code",
   "execution_count": 20,
   "id": "718a3988",
   "metadata": {},
   "outputs": [
    {
     "name": "stdout",
     "output_type": "stream",
     "text": [
      "Pandas(Index='rshekel_0', objective='1./(7.26231 * (10. * x - 1.34364)^2 + 0.25275) + 1./(3.96356 * (10. * x - 2.55069)^2 + 0.1899) + 1./(6.64323 * (10. * x - 6.51593)^2 + 0.11877) + 1./(7.13707 * (10. * x - 0.28347)^2 + 0.18655) + 1./(1.00844 * (10. * x - 7.6228)^2 + 0.18908) + 1./(2.12438 * (10. * x - 7.2154)^2 + 0.28905) + 1./(1.1261 * (10. * x - 9.01427)^2 + 0.10509) + 1./(8.2846 * (10. * x - 5.41412)^2 + 0.17624) + 1./(3.4012 * (10. * x - 2.16599)^2 + 0.10581) + 1./(3.51853 * (10. * x - 2.21692)^2 + 0.19916)', a=0, b=1, min_f=0.53993, min_x=0.42147)\n",
      "TestResult(nsteps=18426, record_value=0.5399254345971413)\n",
      "TestResult(nsteps=23631, record_value=0.539925434588658)\n"
     ]
    }
   ],
   "source": [
    "for test in df.itertuples():\n",
    "    print(test)\n",
    "    prob = uvpr.UniVarProblem(test.Index, test.objective, test.a, test.b, test.min_f, test.min_x, lambda x : log_point(x, psqe_lipint_points_list))\n",
    "    print(sut.psqe(prob, sym = False))\n",
    "    prob = uvpr.UniVarProblem(test.Index, test.objective, test.a, test.b, test.min_f, test.min_x, lambda x : log_point(x, psqe_lip_points_list))\n",
    "    print(sut.psqe(prob, sym = True))\n"
   ]
  },
  {
   "cell_type": "code",
   "execution_count": 21,
   "id": "3bb0b182",
   "metadata": {},
   "outputs": [
    {
     "name": "stdout",
     "output_type": "stream",
     "text": [
      "Pandas(Index='rshekel_0', objective='1./(7.26231 * (10. * x - 1.34364)^2 + 0.25275) + 1./(3.96356 * (10. * x - 2.55069)^2 + 0.1899) + 1./(6.64323 * (10. * x - 6.51593)^2 + 0.11877) + 1./(7.13707 * (10. * x - 0.28347)^2 + 0.18655) + 1./(1.00844 * (10. * x - 7.6228)^2 + 0.18908) + 1./(2.12438 * (10. * x - 7.2154)^2 + 0.28905) + 1./(1.1261 * (10. * x - 9.01427)^2 + 0.10509) + 1./(8.2846 * (10. * x - 5.41412)^2 + 0.17624) + 1./(3.4012 * (10. * x - 2.16599)^2 + 0.10581) + 1./(3.51853 * (10. * x - 2.21692)^2 + 0.19916)', a=0, b=1, min_f=0.53993, min_x=0.42147)\n"
     ]
    },
    {
     "data": {
      "image/png": "[encoded data removed]",
      "text/plain": [
       "<Figure size 640x480 with 1 Axes>"
      ]
     },
     "metadata": {},
     "output_type": "display_data"
    }
   ],
   "source": [
    "for test in df.itertuples():\n",
    "    print(test)\n",
    "    prob = uvpr.UniVarProblem(test.Index, test.objective, test.a, test.b, test.min_f, test.min_x)\n",
    "    up.plot_problem(prob, {'function' : 'b-'})\n",
    "    poix = np.array(list(set(psqe_lipint_points_list[::skip])))\n",
    "    poiy = np.full(len(poix), 0)\n",
    "    up.plot_points(poix, poiy)\n",
    "    poix = np.array(list(set(psqe_lip_points_list[::skip])))\n",
    "    poiy = np.full(len(poix), -0.5)\n",
    "    up.plot_points(poix, poiy)\n"
   ]
  },
  {
   "cell_type": "code",
   "execution_count": null,
   "id": "8aec4782",
   "metadata": {},
   "outputs": [],
   "source": []
  },
  {
   "cell_type": "code",
   "execution_count": null,
   "id": "7f859061",
   "metadata": {},
   "outputs": [],
   "source": []
  }
 ],
 "metadata": {
  "kernelspec": {
   "display_name": "Python 3 (ipykernel)",
   "language": "python",
   "name": "python3"
  },
  "language_info": {
   "codemirror_mode": {
    "name": "ipython",
    "version": 3
   },
   "file_extension": ".py",
   "mimetype": "text/x-python",
   "name": "python",
   "nbconvert_exporter": "python",
   "pygments_lexer": "ipython3",
   "version": "3.10.4"
  }
 },
 "nbformat": 4,
 "nbformat_minor": 5
}
