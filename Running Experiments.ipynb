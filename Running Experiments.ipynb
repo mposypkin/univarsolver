{
 "cells": [
  {
   "cell_type": "markdown",
   "id": "0b7df0e0",
   "metadata": {},
   "source": [
    "Run experiments to compare quadratic underestimators with other type of estimators.\n"
   ]
  },
  {
   "cell_type": "code",
   "execution_count": 51,
   "id": "308b07c3",
   "metadata": {},
   "outputs": [],
   "source": [
    "import pandas as pd\n",
    "import numpy as np\n",
    "import interval as ival\n",
    "import uvarprob as uvpr\n",
    "import bnb as bnb\n",
    "import sub as sub\n",
    "import time\n",
    "import ivalprocessor as ivproc\n",
    "import pslprocessor as pslproc\n",
    "import psqeprocessor as psqproc\n",
    "import gridsearch as gs\n",
    "from sortedcontainers import SortedKeyList\n",
    "from collections import namedtuple\n",
    "from pathlib import Path"
   ]
  },
  {
   "cell_type": "markdown",
   "id": "1048f0dc",
   "metadata": {},
   "source": [
    "Define an array of test files to process"
   ]
  },
  {
   "cell_type": "code",
   "execution_count": 26,
   "id": "a66c7294",
   "metadata": {},
   "outputs": [],
   "source": [
    "test_files = [\"/tmp/shek.csv\"]"
   ]
  },
  {
   "cell_type": "markdown",
   "id": "bd349c58",
   "metadata": {},
   "source": [
    "Define some tuning parameters"
   ]
  },
  {
   "cell_type": "code",
   "execution_count": 27,
   "id": "909eaa59",
   "metadata": {},
   "outputs": [],
   "source": [
    "# Maximal number of steps\n",
    "max_steps = 1e6\n",
    "# Tolerance\n",
    "epsilon = 1e-2\n",
    "# If True - global Lipschitz constant is used\n",
    "global_lipschitz_interval = True\n",
    "# If True - the record value is taken from the test database\n",
    "known_record = False"
   ]
  },
  {
   "cell_type": "code",
   "execution_count": 28,
   "id": "e30a73ac",
   "metadata": {},
   "outputs": [],
   "source": [
    "def get_initial_recval(prob):\n",
    "    if known_record:\n",
    "        return prob.min_f\n",
    "    else:\n",
    "        return float('inf')"
   ]
  },
  {
   "cell_type": "code",
   "execution_count": 29,
   "id": "2bfda0f1",
   "metadata": {},
   "outputs": [],
   "source": [
    "TestResult = namedtuple('TestResult', ['nsteps', 'record_value'])"
   ]
  },
  {
   "cell_type": "code",
   "execution_count": 30,
   "id": "e17ce285",
   "metadata": {},
   "outputs": [],
   "source": [
    "def psl(prob, sym):\n",
    "    psp = pslproc.PSLProcessor(rec_v = get_initial_recval(prob), rec_x = None, problem = prob, eps = epsilon, global_lipint = global_lipschitz_interval, use_symm_lipint = sym)\n",
    "    sl = SortedKeyList(key = lambda s : s.level)\n",
    "    subp = sub.Sub(0, 0, pslproc.PSLData(ival.Interval([prob.a, prob.b]),0))\n",
    "    psp.compute_bounds(subp)\n",
    "    sl.add(subp)\n",
    "    cnt = max_steps\n",
    "    steps = bnb.bnb(sl, cnt, psp)\n",
    "#     print(\"steps performed: \", steps)\n",
    "#     print(\"Record value = \", psp.rec_v, \" at \", psp.rec_x);\n",
    "#     print(sl)\n",
    "    return TestResult(nsteps = steps, record_value = psp.rec_v)"
   ]
  },
  {
   "cell_type": "code",
   "execution_count": 31,
   "id": "a1b98657",
   "metadata": {},
   "outputs": [],
   "source": [
    "def psqe(prob, sym):\n",
    "    psp = psqproc.PSQEProcessor(rec_v = get_initial_recval(prob), rec_x = None, problem = prob, eps = epsilon, global_lipint = global_lipschitz_interval, use_symm_lipint = sym)\n",
    "    sl = SortedKeyList(key = lambda s : s.level)\n",
    "    subp = sub.Sub(0, 0, psqproc.PSQEData(ival.Interval([prob.a, prob.b]),0))\n",
    "    psp.compute_bounds(subp)\n",
    "    sl.add(subp)\n",
    "    cnt = max_steps\n",
    "    steps = bnb.bnb(sl, cnt, psp)\n",
    "#     print(\"steps performed: \", steps)\n",
    "#     print(\"Record value = \", psp.rec_v, \" at \", psp.rec_x);\n",
    "#     print(sl)\n",
    "    return TestResult(nsteps = steps, record_value = psp.rec_v)"
   ]
  },
  {
   "cell_type": "code",
   "execution_count": 32,
   "id": "8108d975",
   "metadata": {},
   "outputs": [],
   "source": [
    "def psl_non_sym(prob):\n",
    "    return psl(prob, False)"
   ]
  },
  {
   "cell_type": "code",
   "execution_count": 33,
   "id": "80ce55f5",
   "metadata": {},
   "outputs": [],
   "source": [
    "def psl_sym(prob):\n",
    "    return psl(prob, True)"
   ]
  },
  {
   "cell_type": "code",
   "execution_count": 34,
   "id": "b23a9f3a",
   "metadata": {},
   "outputs": [],
   "source": [
    "def psqe_non_sym(prob):\n",
    "    return psqe(prob, False)"
   ]
  },
  {
   "cell_type": "code",
   "execution_count": 35,
   "id": "0ba233c5",
   "metadata": {},
   "outputs": [],
   "source": [
    "def psqe_sym(prob):\n",
    "    return psqe(prob, True)"
   ]
  },
  {
   "cell_type": "markdown",
   "id": "ad411692",
   "metadata": {},
   "source": [
    "Tested methods"
   ]
  },
  {
   "cell_type": "code",
   "execution_count": 36,
   "id": "17d3d279",
   "metadata": {},
   "outputs": [],
   "source": [
    "test_methods = {'LLI' : psl_non_sym, 'LLC' : psl_sym, 'QLI' : psqe_non_sym, 'QLC' : psqe_sym}"
   ]
  },
  {
   "cell_type": "code",
   "execution_count": 37,
   "id": "86fce58e",
   "metadata": {},
   "outputs": [],
   "source": [
    "# test_methods = {'LLI' : psl_non_sym, 'QLI' : psqe_non_sym, 'QLC' : psqe_sym}"
   ]
  },
  {
   "cell_type": "code",
   "execution_count": 38,
   "id": "82b13512",
   "metadata": {},
   "outputs": [],
   "source": [
    "def run_method(method, prob):\n",
    "    result = method(prob)\n",
    "    return result"
   ]
  },
  {
   "cell_type": "code",
   "execution_count": 39,
   "id": "ef0f9762",
   "metadata": {},
   "outputs": [],
   "source": [
    "def run_test(test):\n",
    "    prob = uvpr.UniVarProblem(test.Index, test.objective, test.a, test.b, test.min_f, test.min_x)\n",
    "    print(prob.min_f)\n",
    "    runs = {}\n",
    "    for name, method in test_methods.items():\n",
    "        result = run_method(method, prob)\n",
    "#         print(name, \"result :\", result)\n",
    "        runs[name] = result\n",
    "    return runs\n",
    "\n"
   ]
  },
  {
   "cell_type": "code",
   "execution_count": 40,
   "id": "a08c88db",
   "metadata": {},
   "outputs": [],
   "source": [
    "def run_tests(df):\n",
    "    data = {}\n",
    "    for row in df.itertuples():\n",
    "        for name, tres in run_test(row).items():\n",
    "            steps_key = name + '_steps'\n",
    "            if data.get(steps_key) == None:\n",
    "                data[steps_key] = [tres.nsteps]\n",
    "            else:\n",
    "                data[steps_key].append(tres.nsteps)\n",
    "            record_key = name + '_record'\n",
    "            if data.get(record_key) == None:\n",
    "                data[record_key] = [tres.record_value]\n",
    "            else:\n",
    "                data[record_key].append(tres.record_value)\n",
    "#     print(data)\n",
    "    perf_df = pd.DataFrame(data, index = df.index)\n",
    "#     print(perf_df)\n",
    "#     print(perf_df.diff(axis = 1, periods = 2))\n",
    "    return perf_df"
   ]
  },
  {
   "cell_type": "code",
   "execution_count": 41,
   "id": "0514af07",
   "metadata": {},
   "outputs": [],
   "source": [
    "def read_problems(fname):\n",
    "    data = pd.read_csv(fname, index_col = 'name', comment = '#')\n",
    "    return data"
   ]
  },
  {
   "cell_type": "markdown",
   "id": "0e317523",
   "metadata": {},
   "source": [
    "Main testing scenario"
   ]
  },
  {
   "cell_type": "code",
   "execution_count": 53,
   "id": "bd09d0ee",
   "metadata": {},
   "outputs": [
    {
     "name": "stdout",
     "output_type": "stream",
     "text": [
      "0.53993\n",
      "1.4095\n",
      "elapsed: 90.51236963272095\n"
     ]
    }
   ],
   "source": [
    "for file in test_files:\n",
    "    start = time.time()\n",
    "    df = run_tests(read_problems(file))\n",
    "    end = time.time()\n",
    "    print(\"elapsed:\", end - start)\n",
    "    filename = Path(file)\n",
    "    filename_wo_ext = filename.with_suffix('')\n",
    "    df.to_csv(str(filename_wo_ext) + \"_res.csv\")\n",
    "    \n",
    "    "
   ]
  },
  {
   "cell_type": "code",
   "execution_count": 54,
   "id": "625d0b68",
   "metadata": {},
   "outputs": [
    {
     "name": "stdout",
     "output_type": "stream",
     "text": [
      "        name  LLI_steps  LLI_record  LLC_steps  LLC_record  QLI_steps  \\\n",
      "0  rshekel_0     551839    0.539925     754797    0.539925      18426   \n",
      "1  rshekel_1     309368    1.409502     295817    1.409502      10822   \n",
      "\n",
      "   QLI_record  QLC_steps  QLC_record  \n",
      "0    0.539925      23631    0.539925  \n",
      "1    1.409502      16093    1.409502  \n",
      "   LLC_steps  LLI_steps  QLC_steps  QLI_steps\n",
      "0     754797     551839      23631      18426\n",
      "1     295817     309368      16093      10822\n",
      "ratio\n",
      "<class 'pandas.core.series.Series'>\n",
      "0    1.282481\n",
      "1    1.487063\n",
      "dtype: float64\n",
      "ratio: 1.28248127645718 1.3847723329245798 1.4870633893919794\n",
      "=============\n",
      "Mean:\n",
      "LLC_steps    525307.0\n",
      "LLI_steps    430603.5\n",
      "QLC_steps     19862.0\n",
      "QLI_steps     14624.0\n",
      "dtype: float64\n",
      "Min:\n",
      "LLC_steps    295817\n",
      "LLI_steps    309368\n",
      "QLC_steps     16093\n",
      "QLI_steps     10822\n",
      "dtype: int64\n",
      "Max:\n",
      "LLC_steps    754797\n",
      "LLI_steps    551839\n",
      "QLC_steps     23631\n",
      "QLI_steps     18426\n",
      "dtype: int64\n"
     ]
    }
   ],
   "source": [
    "csv_name = \"/tmp/shek.csv_results\"\n",
    "df = pd.read_csv(csv_name)\n",
    "print(df)\n",
    "filtered_df = df[['LLC_steps', 'LLI_steps', 'QLC_steps', 'QLI_steps']]\n",
    "print(filtered_df)\n",
    "ratio = filtered_df['QLC_steps']/filtered_df['QLI_steps']\n",
    "print(\"ratio\")\n",
    "print(type(ratio))\n",
    "print(ratio)\n",
    "print(\"ratio:\", ratio.min(), ratio.mean(), ratio.max())\n",
    "mean_data = filtered_df.mean()\n",
    "max_data = filtered_df.max()\n",
    "min_data = filtered_df.min()\n",
    "#     print(mean_data['LLI_steps'])\n",
    "print(\"=============\")\n",
    "#     steps_data = pd.Series(mean_data, index = ['LLC_steps', 'LLI_steps', 'QLC_steps', 'QLI_steps'])\n",
    "print(\"Mean:\")\n",
    "print(mean_data)\n",
    "print(\"Min:\")\n",
    "print(min_data)\n",
    "print(\"Max:\")\n",
    "print(max_data)"
   ]
  },
  {
   "cell_type": "code",
   "execution_count": null,
   "id": "60bb05a1",
   "metadata": {},
   "outputs": [],
   "source": []
  }
 ],
 "metadata": {
  "kernelspec": {
   "display_name": "Python 3 (ipykernel)",
   "language": "python",
   "name": "python3"
  },
  "language_info": {
   "codemirror_mode": {
    "name": "ipython",
    "version": 3
   },
   "file_extension": ".py",
   "mimetype": "text/x-python",
   "name": "python",
   "nbconvert_exporter": "python",
   "pygments_lexer": "ipython3",
   "version": "3.8.10"
  }
 },
 "nbformat": 4,
 "nbformat_minor": 5
}
