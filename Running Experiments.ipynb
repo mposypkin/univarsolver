{
 "cells": [
  {
   "cell_type": "markdown",
   "id": "0b7df0e0",
   "metadata": {},
   "source": [
    "Run experiments to compare quadratic underestimators with other type of estimators.\n"
   ]
  },
  {
   "cell_type": "code",
   "execution_count": 1,
   "id": "308b07c3",
   "metadata": {},
   "outputs": [],
   "source": [
    "import pandas as pd\n",
    "import numpy as np\n",
    "import interval as ival\n",
    "import uvarprob as uvpr\n",
    "import bnb as bnb\n",
    "import sub as sub\n",
    "import ivalprocessor as ivproc\n",
    "import pslprocessor as pslproc\n",
    "import psqeprocessor as psqproc\n",
    "import gridsearch as gs\n",
    "from sortedcontainers import SortedKeyList\n",
    "from collections import namedtuple"
   ]
  },
  {
   "cell_type": "markdown",
   "id": "1048f0dc",
   "metadata": {},
   "source": [
    "Define an array of test files to process"
   ]
  },
  {
   "cell_type": "code",
   "execution_count": 2,
   "id": "a66c7294",
   "metadata": {},
   "outputs": [],
   "source": [
    "test_files = [\"/tmp/shek.csv\"]"
   ]
  },
  {
   "cell_type": "markdown",
   "id": "bd349c58",
   "metadata": {},
   "source": [
    "Define some tuning parameters"
   ]
  },
  {
   "cell_type": "code",
   "execution_count": 3,
   "id": "909eaa59",
   "metadata": {},
   "outputs": [],
   "source": [
    "# Maximal number of steps\n",
    "max_steps = 1e6\n",
    "# Tolerance\n",
    "epsilon = 1e-2\n",
    "# If True - global Lipschitz constant is used\n",
    "global_lipschitz_interval = True\n",
    "# If True - the record value is taken from the test database\n",
    "known_record = False"
   ]
  },
  {
   "cell_type": "code",
   "execution_count": 4,
   "id": "e30a73ac",
   "metadata": {},
   "outputs": [],
   "source": [
    "def get_initial_recval(prob):\n",
    "    if known_record:\n",
    "        return prob.min_f\n",
    "    else:\n",
    "        return float('inf')"
   ]
  },
  {
   "cell_type": "code",
   "execution_count": 5,
   "id": "2bfda0f1",
   "metadata": {},
   "outputs": [],
   "source": [
    "TestResult = namedtuple('TestResult', ['nsteps', 'record_value'])"
   ]
  },
  {
   "cell_type": "code",
   "execution_count": 6,
   "id": "e17ce285",
   "metadata": {},
   "outputs": [],
   "source": [
    "def psl(prob, sym):\n",
    "    psp = pslproc.PSLProcessor(rec_v = get_initial_recval(prob), rec_x = None, problem = prob, eps = epsilon, global_lipint = global_lipschitz_interval, use_symm_lipint = sym)\n",
    "    sl = SortedKeyList(key = lambda s : s.level)\n",
    "    subp = sub.Sub(0, 0, pslproc.PSLData(ival.Interval([prob.a, prob.b]),0))\n",
    "    psp.compute_bounds(subp)\n",
    "    sl.add(subp)\n",
    "    cnt = max_steps\n",
    "    steps = bnb.bnb(sl, cnt, psp)\n",
    "#     print(\"steps performed: \", steps)\n",
    "#     print(\"Record value = \", psp.rec_v, \" at \", psp.rec_x);\n",
    "#     print(sl)\n",
    "    return TestResult(nsteps = steps, record_value = psp.rec_v)"
   ]
  },
  {
   "cell_type": "code",
   "execution_count": 7,
   "id": "a1b98657",
   "metadata": {},
   "outputs": [],
   "source": [
    "def psqe(prob, sym):\n",
    "    psp = psqproc.PSQEProcessor(rec_v = get_initial_recval(prob), rec_x = None, problem = prob, eps = epsilon, global_lipint = global_lipschitz_interval, use_symm_lipint = sym)\n",
    "    sl = SortedKeyList(key = lambda s : s.level)\n",
    "    subp = sub.Sub(0, 0, psqproc.PSQEData(ival.Interval([prob.a, prob.b]),0))\n",
    "    psp.compute_bounds(subp)\n",
    "    sl.add(subp)\n",
    "    cnt = max_steps\n",
    "    steps = bnb.bnb(sl, cnt, psp)\n",
    "#     print(\"steps performed: \", steps)\n",
    "#     print(\"Record value = \", psp.rec_v, \" at \", psp.rec_x);\n",
    "#     print(sl)\n",
    "    return TestResult(nsteps = steps, record_value = psp.rec_v)"
   ]
  },
  {
   "cell_type": "code",
   "execution_count": 8,
   "id": "8108d975",
   "metadata": {},
   "outputs": [],
   "source": [
    "def psl_non_sym(prob):\n",
    "    return psl(prob, False)"
   ]
  },
  {
   "cell_type": "code",
   "execution_count": 9,
   "id": "80ce55f5",
   "metadata": {},
   "outputs": [],
   "source": [
    "def psl_sym(prob):\n",
    "    return psl(prob, True)"
   ]
  },
  {
   "cell_type": "code",
   "execution_count": 10,
   "id": "b23a9f3a",
   "metadata": {},
   "outputs": [],
   "source": [
    "def psqe_non_sym(prob):\n",
    "    return psqe(prob, False)"
   ]
  },
  {
   "cell_type": "code",
   "execution_count": 11,
   "id": "0ba233c5",
   "metadata": {},
   "outputs": [],
   "source": [
    "def psqe_sym(prob):\n",
    "    return psqe(prob, True)"
   ]
  },
  {
   "cell_type": "markdown",
   "id": "ad411692",
   "metadata": {},
   "source": [
    "Tested methods"
   ]
  },
  {
   "cell_type": "code",
   "execution_count": 12,
   "id": "17d3d279",
   "metadata": {},
   "outputs": [],
   "source": [
    "test_methods = {'LLI' : psl_non_sym, 'LLC' : psl_sym, 'QLI' : psqe_non_sym, 'QLC' : psqe_sym}"
   ]
  },
  {
   "cell_type": "code",
   "execution_count": 13,
   "id": "86fce58e",
   "metadata": {},
   "outputs": [],
   "source": [
    "# test_methods = {'LLI' : psl_non_sym, 'QLI' : psqe_non_sym, 'QLC' : psqe_sym}"
   ]
  },
  {
   "cell_type": "code",
   "execution_count": 14,
   "id": "82b13512",
   "metadata": {},
   "outputs": [],
   "source": [
    "def run_method(method, prob):\n",
    "    result = method(prob)\n",
    "    return result"
   ]
  },
  {
   "cell_type": "code",
   "execution_count": 15,
   "id": "ef0f9762",
   "metadata": {},
   "outputs": [],
   "source": [
    "def run_test(test):\n",
    "    prob = uvpr.UniVarProblem(test.Index, test.objective, test.a, test.b, test.min_f, test.min_x)\n",
    "    print(prob.min_f)\n",
    "    runs = {}\n",
    "    for name, method in test_methods.items():\n",
    "        result = run_method(method, prob)\n",
    "#         print(name, \"result :\", result)\n",
    "        runs[name] = result\n",
    "    return runs\n",
    "\n"
   ]
  },
  {
   "cell_type": "code",
   "execution_count": 20,
   "id": "a08c88db",
   "metadata": {},
   "outputs": [],
   "source": [
    "def run_tests(df):\n",
    "    data = {}\n",
    "    for row in df.itertuples():\n",
    "        for name, tres in run_test(row).items():\n",
    "            steps_key = name + '_steps'\n",
    "            if data.get(steps_key) == None:\n",
    "                data[steps_key] = [tres.nsteps]\n",
    "            else:\n",
    "                data[steps_key].append(tres.nsteps)\n",
    "            record_key = name + '_record'\n",
    "            if data.get(record_key) == None:\n",
    "                data[record_key] = [tres.record_value]\n",
    "            else:\n",
    "                data[record_key].append(tres.record_value)\n",
    "    print(data)\n",
    "    perf_df = pd.DataFrame(data, index = df.index)\n",
    "    print(perf_df)\n",
    "    print(perf_df.diff(axis = 1, periods = 2))\n",
    "    return perf_df"
   ]
  },
  {
   "cell_type": "code",
   "execution_count": 21,
   "id": "0514af07",
   "metadata": {},
   "outputs": [],
   "source": [
    "def read_problems(fname):\n",
    "    data = pd.read_csv(fname, index_col = 'name', comment = '#')\n",
    "    return data"
   ]
  },
  {
   "cell_type": "markdown",
   "id": "0e317523",
   "metadata": {},
   "source": [
    "Main testing scenario"
   ]
  },
  {
   "cell_type": "code",
   "execution_count": 27,
   "id": "bd09d0ee",
   "metadata": {},
   "outputs": [
    {
     "name": "stdout",
     "output_type": "stream",
     "text": [
      "0.53993\n",
      "1.4095\n",
      "0.99992\n",
      "0.41883\n",
      "0.72143\n",
      "0.4338\n",
      "0.58908\n",
      "0.51048\n",
      "0.6859\n",
      "0.42419\n",
      "{'LLI_steps': [551839, 309368, 402303, 675551, 439164, 572815, 438548, 914419, 613046, 705365], 'LLI_record': [0.5399254341946542, 1.409502007312278, 0.9999221948575914, 0.41882713041733, 0.7214302935355311, 0.4338045561979252, 0.589076411889616, 0.5104762148331544, 0.6858992800482617, 0.42418803376133835], 'LLC_steps': [754797, 295817, 448523, 818613, 590765, 579841, 809869, 1000001, 819837, 708655], 'LLC_record': [0.5399254341946222, 1.409502007312265, 0.9999221948582324, 0.41882713041731234, 0.7214302935355152, 0.4338045561979053, 0.5890764118896218, 0.5104762148331512, 0.685899280048319, 0.4241880337614379], 'QLI_steps': [18426, 10822, 14651, 14699, 16703, 12087, 20000, 20194, 19887, 18728], 'QLI_record': [0.5399254345971413, 1.409502007335007, 0.999922196475712, 0.41882713079170425, 0.7214302935606903, 0.43380455673724666, 0.5890764119309315, 0.5104762152136937, 0.6858992801316037, 0.4241880343962273], 'QLC_steps': [23631, 16093, 17752, 25092, 21260, 30956, 34323, 38638, 28852, 28101], 'QLC_record': [0.539925434588658, 1.4095020073140274, 0.9999221964393673, 0.4188271305020135, 0.7214302935608505, 0.4338045562031708, 0.5890764119447309, 0.5104762148421849, 0.6858992801356949, 0.42418803377911757]}\n",
      "           LLI_steps  LLI_record  LLC_steps  LLC_record  QLI_steps  \\\n",
      "name                                                                 \n",
      "rshekel_0     551839    0.539925     754797    0.539925      18426   \n",
      "rshekel_1     309368    1.409502     295817    1.409502      10822   \n",
      "rshekel_2     402303    0.999922     448523    0.999922      14651   \n",
      "rshekel_3     675551    0.418827     818613    0.418827      14699   \n",
      "rshekel_4     439164    0.721430     590765    0.721430      16703   \n",
      "rshekel_5     572815    0.433805     579841    0.433805      12087   \n",
      "rshekel_6     438548    0.589076     809869    0.589076      20000   \n",
      "rshekel_7     914419    0.510476    1000001    0.510476      20194   \n",
      "rshekel_8     613046    0.685899     819837    0.685899      19887   \n",
      "rshekel_9     705365    0.424188     708655    0.424188      18728   \n",
      "\n",
      "           QLI_record  QLC_steps  QLC_record  \n",
      "name                                          \n",
      "rshekel_0    0.539925      23631    0.539925  \n",
      "rshekel_1    1.409502      16093    1.409502  \n",
      "rshekel_2    0.999922      17752    0.999922  \n",
      "rshekel_3    0.418827      25092    0.418827  \n",
      "rshekel_4    0.721430      21260    0.721430  \n",
      "rshekel_5    0.433805      30956    0.433805  \n",
      "rshekel_6    0.589076      34323    0.589076  \n",
      "rshekel_7    0.510476      38638    0.510476  \n",
      "rshekel_8    0.685899      28852    0.685899  \n",
      "rshekel_9    0.424188      28101    0.424188  \n",
      "           LLI_steps  LLI_record  LLC_steps    LLC_record  QLI_steps  \\\n",
      "name                                                                   \n",
      "rshekel_0        NaN         NaN     202958 -3.197442e-14    -736371   \n",
      "rshekel_1        NaN         NaN     -13551 -1.287859e-14    -284995   \n",
      "rshekel_2        NaN         NaN      46220  6.410428e-13    -433872   \n",
      "rshekel_3        NaN         NaN     143062 -1.765255e-14    -803914   \n",
      "rshekel_4        NaN         NaN     151601 -1.587619e-14    -574062   \n",
      "rshekel_5        NaN         NaN       7026 -1.987299e-14    -567754   \n",
      "rshekel_6        NaN         NaN     371321  5.773160e-15    -789869   \n",
      "rshekel_7        NaN         NaN      85582 -3.219647e-15    -979807   \n",
      "rshekel_8        NaN         NaN     206791  5.728751e-14    -799950   \n",
      "rshekel_9        NaN         NaN       3290  9.953149e-14    -689927   \n",
      "\n",
      "             QLI_record  QLC_steps    QLC_record  \n",
      "name                                              \n",
      "rshekel_0  4.025190e-10       5205 -8.483214e-12  \n",
      "rshekel_1  2.274203e-11       5271 -2.097966e-11  \n",
      "rshekel_2  1.617480e-09       3101 -3.634471e-11  \n",
      "rshekel_3  3.743919e-10      10393 -2.896908e-10  \n",
      "rshekel_4  2.517508e-11       4557  1.602052e-13  \n",
      "rshekel_5  5.393413e-10      18869 -5.340758e-10  \n",
      "rshekel_6  4.130973e-11      14323  1.379941e-11  \n",
      "rshekel_7  3.805425e-10      18444 -3.715088e-10  \n",
      "rshekel_8  8.328471e-11       8965  4.091172e-12  \n",
      "rshekel_9  6.347894e-10       9373 -6.171098e-10  \n",
      "=============\n",
      "LLC_steps    682671.8\n",
      "LLI_steps    562241.8\n",
      "QLC_steps     26469.8\n",
      "QLI_steps     16619.7\n",
      "dtype: float64\n"
     ]
    }
   ],
   "source": [
    "for file in test_files:\n",
    "    df = run_tests(read_problems(file))\n",
    "    mean_data = df.mean()\n",
    "#     print(mean_data['LLI_steps'])\n",
    "    print(\"=============\")\n",
    "    steps_data = pd.Series(mean_data, index = ['LLC_steps', 'LLI_steps', 'QLC_steps', 'QLI_steps'])\n",
    "    print(steps_data)"
   ]
  },
  {
   "cell_type": "code",
   "execution_count": 19,
   "id": "64bedd4f",
   "metadata": {},
   "outputs": [
    {
     "ename": "NameError",
     "evalue": "name 'perf_df' is not defined",
     "output_type": "error",
     "traceback": [
      "\u001b[0;31m---------------------------------------------------------------------------\u001b[0m",
      "\u001b[0;31mNameError\u001b[0m                                 Traceback (most recent call last)",
      "\u001b[0;32m/tmp/ipykernel_14133/1909940927.py\u001b[0m in \u001b[0;36m<module>\u001b[0;34m\u001b[0m\n\u001b[0;32m----> 1\u001b[0;31m \u001b[0mprint\u001b[0m\u001b[0;34m(\u001b[0m\u001b[0mperf_df\u001b[0m\u001b[0;34m)\u001b[0m\u001b[0;34m\u001b[0m\u001b[0;34m\u001b[0m\u001b[0m\n\u001b[0m",
      "\u001b[0;31mNameError\u001b[0m: name 'perf_df' is not defined"
     ]
    }
   ],
   "source": [
    "print(perf_df)"
   ]
  },
  {
   "cell_type": "code",
   "execution_count": null,
   "id": "625d0b68",
   "metadata": {},
   "outputs": [],
   "source": []
  },
  {
   "cell_type": "code",
   "execution_count": null,
   "id": "60bb05a1",
   "metadata": {},
   "outputs": [],
   "source": []
  }
 ],
 "metadata": {
  "kernelspec": {
   "display_name": "Python 3 (ipykernel)",
   "language": "python",
   "name": "python3"
  },
  "language_info": {
   "codemirror_mode": {
    "name": "ipython",
    "version": 3
   },
   "file_extension": ".py",
   "mimetype": "text/x-python",
   "name": "python",
   "nbconvert_exporter": "python",
   "pygments_lexer": "ipython3",
   "version": "3.8.10"
  }
 },
 "nbformat": 4,
 "nbformat_minor": 5
}
