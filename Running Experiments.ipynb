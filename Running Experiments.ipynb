{
 "cells": [
  {
   "cell_type": "markdown",
   "id": "0b7df0e0",
   "metadata": {},
   "source": [
    "Run experiments to compare quadratic underestimators with other type of estimators.\n"
   ]
  },
  {
   "cell_type": "code",
   "execution_count": 2,
   "id": "308b07c3",
   "metadata": {},
   "outputs": [],
   "source": [
    "import pandas as pd\n",
    "import numpy as np\n",
    "import interval as ival\n",
    "import uvarprob as uvpr\n",
    "import bnb as bnb\n",
    "import sub as sub\n",
    "import ivalprocessor as ivproc\n",
    "import pslprocessor as pslproc\n",
    "import psqeprocessor as psqproc\n",
    "import gridsearch as gs\n",
    "from sortedcontainers import SortedKeyList\n",
    "from collections import namedtuple"
   ]
  },
  {
   "cell_type": "markdown",
   "id": "1048f0dc",
   "metadata": {},
   "source": [
    "Define an array of test files to process"
   ]
  },
  {
   "cell_type": "code",
   "execution_count": 3,
   "id": "a66c7294",
   "metadata": {},
   "outputs": [],
   "source": [
    "test_files = [\"/tmp/shek.csv\"]"
   ]
  },
  {
   "cell_type": "markdown",
   "id": "bd349c58",
   "metadata": {},
   "source": [
    "Define some tuning parameters"
   ]
  },
  {
   "cell_type": "code",
   "execution_count": 4,
   "id": "909eaa59",
   "metadata": {},
   "outputs": [],
   "source": [
    "# Maximal number of steps\n",
    "max_steps = 1e6\n",
    "# Tolerance\n",
    "epsilon = 1e-2\n",
    "# If True - global Lipschitz constant is used\n",
    "global_lipschitz_interval = True\n",
    "# If True - the record value is taken from the test database\n",
    "known_record = False"
   ]
  },
  {
   "cell_type": "code",
   "execution_count": 5,
   "id": "e30a73ac",
   "metadata": {},
   "outputs": [],
   "source": [
    "def get_initial_recval(prob):\n",
    "    if known_record:\n",
    "        return prob.min_f\n",
    "    else:\n",
    "        return float('inf')"
   ]
  },
  {
   "cell_type": "code",
   "execution_count": 6,
   "id": "2bfda0f1",
   "metadata": {},
   "outputs": [],
   "source": [
    "TestResult = namedtuple('TestResult', ['nsteps', 'record_value'])"
   ]
  },
  {
   "cell_type": "code",
   "execution_count": 7,
   "id": "e17ce285",
   "metadata": {},
   "outputs": [],
   "source": [
    "def psl(prob, sym):\n",
    "    psp = pslproc.PSLProcessor(rec_v = get_initial_recval(prob), rec_x = None, problem = prob, eps = epsilon, global_lipint = global_lipschitz_interval, use_symm_lipint = sym)\n",
    "    sl = SortedKeyList(key = lambda s : s.level)\n",
    "    subp = sub.Sub(0, 0, pslproc.PSLData(ival.Interval([prob.a, prob.b]),0))\n",
    "    psp.compute_bounds(subp)\n",
    "    sl.add(subp)\n",
    "    cnt = max_steps\n",
    "    steps = bnb.bnb(sl, cnt, psp)\n",
    "#     print(\"steps performed: \", steps)\n",
    "#     print(\"Record value = \", psp.rec_v, \" at \", psp.rec_x);\n",
    "#     print(sl)\n",
    "    return TestResult(nsteps = steps, record_value = psp.rec_v)"
   ]
  },
  {
   "cell_type": "code",
   "execution_count": 8,
   "id": "a1b98657",
   "metadata": {},
   "outputs": [],
   "source": [
    "def psqe(prob, sym):\n",
    "    psp = psqproc.PSQEProcessor(rec_v = get_initial_recval(prob), rec_x = None, problem = prob, eps = epsilon, global_lipint = global_lipschitz_interval, use_symm_lipint = sym)\n",
    "    sl = SortedKeyList(key = lambda s : s.level)\n",
    "    subp = sub.Sub(0, 0, psqproc.PSQEData(ival.Interval([prob.a, prob.b]),0))\n",
    "    psp.compute_bounds(subp)\n",
    "    sl.add(subp)\n",
    "    cnt = max_steps\n",
    "    steps = bnb.bnb(sl, cnt, psp)\n",
    "#     print(\"steps performed: \", steps)\n",
    "#     print(\"Record value = \", psp.rec_v, \" at \", psp.rec_x);\n",
    "#     print(sl)\n",
    "    return TestResult(nsteps = steps, record_value = psp.rec_v)"
   ]
  },
  {
   "cell_type": "code",
   "execution_count": 9,
   "id": "8108d975",
   "metadata": {},
   "outputs": [],
   "source": [
    "def psl_non_sym(prob):\n",
    "    return psl(prob, False)"
   ]
  },
  {
   "cell_type": "code",
   "execution_count": 10,
   "id": "80ce55f5",
   "metadata": {},
   "outputs": [],
   "source": [
    "def psl_sym(prob):\n",
    "    return psl(prob, True)"
   ]
  },
  {
   "cell_type": "code",
   "execution_count": 11,
   "id": "b23a9f3a",
   "metadata": {},
   "outputs": [],
   "source": [
    "def psqe_non_sym(prob):\n",
    "    return psqe(prob, False)"
   ]
  },
  {
   "cell_type": "code",
   "execution_count": 12,
   "id": "0ba233c5",
   "metadata": {},
   "outputs": [],
   "source": [
    "def psqe_sym(prob):\n",
    "    return psqe(prob, True)"
   ]
  },
  {
   "cell_type": "markdown",
   "id": "ad411692",
   "metadata": {},
   "source": [
    "Tested methods"
   ]
  },
  {
   "cell_type": "code",
   "execution_count": 13,
   "id": "17d3d279",
   "metadata": {},
   "outputs": [],
   "source": [
    "test_methods = {'LLI' : psl_non_sym, 'LLC' : psl_sym, 'QLI' : psqe_non_sym, 'QLC' : psqe_sym}"
   ]
  },
  {
   "cell_type": "code",
   "execution_count": 14,
   "id": "86fce58e",
   "metadata": {},
   "outputs": [],
   "source": [
    "# test_methods = {'LLI' : psl_non_sym, 'QLI' : psqe_non_sym, 'QLC' : psqe_sym}"
   ]
  },
  {
   "cell_type": "code",
   "execution_count": 15,
   "id": "82b13512",
   "metadata": {},
   "outputs": [],
   "source": [
    "def run_method(method, prob):\n",
    "    result = method(prob)\n",
    "    return result"
   ]
  },
  {
   "cell_type": "code",
   "execution_count": 16,
   "id": "ef0f9762",
   "metadata": {},
   "outputs": [],
   "source": [
    "def run_test(test):\n",
    "    prob = uvpr.UniVarProblem(test.Index, test.objective, test.a, test.b, test.min_f, test.min_x)\n",
    "    print(prob.min_f)\n",
    "    runs = {}\n",
    "    for name, method in test_methods.items():\n",
    "        result = run_method(method, prob)\n",
    "#         print(name, \"result :\", result)\n",
    "        runs[name] = result\n",
    "    return runs\n",
    "\n"
   ]
  },
  {
   "cell_type": "code",
   "execution_count": 22,
   "id": "a08c88db",
   "metadata": {},
   "outputs": [],
   "source": [
    "def run_tests(df):\n",
    "    data = {}\n",
    "    for row in df.itertuples():\n",
    "        for name, tres in run_test(row).items():\n",
    "            steps_key = name + '_steps'\n",
    "            if data.get(steps_key) == None:\n",
    "                data[steps_key] = [tres.nsteps]\n",
    "            else:\n",
    "                data[steps_key].append(tres.nsteps)\n",
    "            record_key = name + '_record'\n",
    "            if data.get(record_key) == None:\n",
    "                data[record_key] = [tres.record_value]\n",
    "            else:\n",
    "                data[record_key].append(tres.record_value)\n",
    "#     print(data)\n",
    "    perf_df = pd.DataFrame(data, index = df.index)\n",
    "#     print(perf_df)\n",
    "#     print(perf_df.diff(axis = 1, periods = 2))\n",
    "    return perf_df"
   ]
  },
  {
   "cell_type": "code",
   "execution_count": 23,
   "id": "0514af07",
   "metadata": {},
   "outputs": [],
   "source": [
    "def read_problems(fname):\n",
    "    data = pd.read_csv(fname, index_col = 'name', comment = '#')\n",
    "    return data"
   ]
  },
  {
   "cell_type": "markdown",
   "id": "0e317523",
   "metadata": {},
   "source": [
    "Main testing scenario"
   ]
  },
  {
   "cell_type": "code",
   "execution_count": 28,
   "id": "bd09d0ee",
   "metadata": {},
   "outputs": [
    {
     "name": "stdout",
     "output_type": "stream",
     "text": [
      "0.53993\n",
      "1.4095\n",
      "0.99992\n",
      "0.41883\n",
      "0.72143\n",
      "0.4338\n",
      "0.58908\n",
      "0.51048\n",
      "0.6859\n",
      "0.42419\n",
      "           LLC_steps  LLI_steps  QLC_steps  QLI_steps\n",
      "name                                                 \n",
      "rshekel_0     754797     551839      23631      18426\n",
      "rshekel_1     295817     309368      16093      10822\n",
      "rshekel_2     448523     402303      17752      14651\n",
      "rshekel_3     818613     675551      25092      14699\n",
      "rshekel_4     590765     439164      21260      16703\n",
      "rshekel_5     579841     572815      30956      12087\n",
      "rshekel_6     809869     438548      34323      20000\n",
      "rshekel_7    1000001     914419      38638      20194\n",
      "rshekel_8     819837     613046      28852      19887\n",
      "rshekel_9     708655     705365      28101      18728\n",
      "=============\n",
      "Mean:\n",
      "LLC_steps    682671.8\n",
      "LLI_steps    562241.8\n",
      "QLC_steps     26469.8\n",
      "QLI_steps     16619.7\n",
      "dtype: float64\n",
      "Min:\n",
      "LLC_steps    295817\n",
      "LLI_steps    309368\n",
      "QLC_steps     16093\n",
      "QLI_steps     10822\n",
      "dtype: int64\n",
      "Max:\n",
      "LLC_steps    1000001\n",
      "LLI_steps     914419\n",
      "QLC_steps      38638\n",
      "QLI_steps      20194\n",
      "dtype: int64\n"
     ]
    }
   ],
   "source": [
    "for file in test_files:\n",
    "    df = run_tests(read_problems(file))\n",
    "    filtered_df = df[['LLC_steps', 'LLI_steps', 'QLC_steps', 'QLI_steps']]\n",
    "    print(filtered_df)\n",
    "    mean_data = filtered_df.mean()\n",
    "    max_data = filtered_df.max()\n",
    "    min_data = filtered_df.min()\n",
    "#     print(mean_data['LLI_steps'])\n",
    "    print(\"=============\")\n",
    "#     steps_data = pd.Series(mean_data, index = ['LLC_steps', 'LLI_steps', 'QLC_steps', 'QLI_steps'])\n",
    "    print(\"Mean:\")\n",
    "    print(mean_data)\n",
    "    print(\"Min:\")\n",
    "    print(min_data)\n",
    "    print(\"Max:\")\n",
    "    print(max_data)\n",
    "    "
   ]
  },
  {
   "cell_type": "code",
   "execution_count": null,
   "id": "625d0b68",
   "metadata": {},
   "outputs": [],
   "source": []
  },
  {
   "cell_type": "code",
   "execution_count": null,
   "id": "60bb05a1",
   "metadata": {},
   "outputs": [],
   "source": []
  }
 ],
 "metadata": {
  "kernelspec": {
   "display_name": "Python 3 (ipykernel)",
   "language": "python",
   "name": "python3"
  },
  "language_info": {
   "codemirror_mode": {
    "name": "ipython",
    "version": 3
   },
   "file_extension": ".py",
   "mimetype": "text/x-python",
   "name": "python",
   "nbconvert_exporter": "python",
   "pygments_lexer": "ipython3",
   "version": "3.8.10"
  }
 },
 "nbformat": 4,
 "nbformat_minor": 5
}
