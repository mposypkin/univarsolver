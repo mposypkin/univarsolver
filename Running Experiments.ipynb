{
 "cells": [
  {
   "cell_type": "markdown",
   "id": "0b7df0e0",
   "metadata": {},
   "source": [
    "Run experiments to compare quadratic underestimators with other type of estimators.\n"
   ]
  },
  {
   "cell_type": "code",
   "execution_count": 49,
   "id": "308b07c3",
   "metadata": {},
   "outputs": [],
   "source": [
    "import pandas as pd\n",
    "import numpy as np\n",
    "import interval as ival\n",
    "import uvarprob as uvpr\n",
    "import bnb as bnb\n",
    "import sub as sub\n",
    "import ivalprocessor as ivproc\n",
    "import psqeprocessor as psproc\n",
    "import gridsearch as gs\n",
    "from sortedcontainers import SortedKeyList\n",
    "from collections import namedtuple"
   ]
  },
  {
   "cell_type": "markdown",
   "id": "1048f0dc",
   "metadata": {},
   "source": [
    "Define an array of test files to process"
   ]
  },
  {
   "cell_type": "code",
   "execution_count": 134,
   "id": "a66c7294",
   "metadata": {},
   "outputs": [],
   "source": [
    "test_files = [\"/tmp/shek.csv\"]"
   ]
  },
  {
   "cell_type": "markdown",
   "id": "ad411692",
   "metadata": {},
   "source": [
    "Tested methods"
   ]
  },
  {
   "cell_type": "code",
   "execution_count": 135,
   "id": "17d3d279",
   "metadata": {},
   "outputs": [],
   "source": [
    "test_methods = {'QLI' : psqe_non_sym, 'QLC' : psqe_sym}"
   ]
  },
  {
   "cell_type": "code",
   "execution_count": 136,
   "id": "909eaa59",
   "metadata": {},
   "outputs": [],
   "source": [
    "max_steps = 1e6\n",
    "epsilon = 1e-5"
   ]
  },
  {
   "cell_type": "code",
   "execution_count": 137,
   "id": "2bfda0f1",
   "metadata": {},
   "outputs": [],
   "source": [
    "TestResult = namedtuple('TestResult', ['nsteps', 'record_value'])"
   ]
  },
  {
   "cell_type": "code",
   "execution_count": 177,
   "id": "e17ce285",
   "metadata": {},
   "outputs": [],
   "source": [
    "def psqe(prob, sym):\n",
    "    psp = psproc.PSQEProcessor(rec_v = float('inf'), rec_x = None, problem = prob, eps = epsilon, global_lipint = True, use_symm_lipint = sym)\n",
    "    sl = SortedKeyList(key = lambda s : s.level)\n",
    "    subp = sub.Sub(0, 0, psproc.PSQEData(ival.Interval([prob.a, prob.b]),0))\n",
    "    psp.compute_bounds(subp)\n",
    "    sl.add(subp)\n",
    "    cnt = max_steps\n",
    "    steps = bnb.bnb(sl, cnt, psp)\n",
    "#     print(\"steps performed: \", steps)\n",
    "#     print(\"Record value = \", psp.rec_v, \" at \", psp.rec_x);\n",
    "#     print(sl)\n",
    "    return TestResult(nsteps = steps, record_value = psp.rec_v)"
   ]
  },
  {
   "cell_type": "code",
   "execution_count": 178,
   "id": "b23a9f3a",
   "metadata": {},
   "outputs": [],
   "source": [
    "def psqe_non_sym(prob):\n",
    "    return psqe(prob, False)"
   ]
  },
  {
   "cell_type": "code",
   "execution_count": 179,
   "id": "0ba233c5",
   "metadata": {},
   "outputs": [],
   "source": [
    "def psqe_sym(prob):\n",
    "    return psqe(prob, True)"
   ]
  },
  {
   "cell_type": "code",
   "execution_count": 180,
   "id": "82b13512",
   "metadata": {},
   "outputs": [],
   "source": [
    "def run_method(method, prob):\n",
    "    result = method(prob)\n",
    "    return result"
   ]
  },
  {
   "cell_type": "code",
   "execution_count": 181,
   "id": "ef0f9762",
   "metadata": {},
   "outputs": [],
   "source": [
    "def run_test(test):\n",
    "    prob = uvpr.UniVarProblem(test.Index, test.objective, test.a, test.b, test.min_f, test.min_x)\n",
    "    print(prob.min_f)\n",
    "    runs = {}\n",
    "    for name, method in test_methods.items():\n",
    "        result = run_method(method, prob)\n",
    "#         print(name, \"result :\", result)\n",
    "        runs[name] = result\n",
    "    return runs\n",
    "\n"
   ]
  },
  {
   "cell_type": "code",
   "execution_count": 182,
   "id": "a08c88db",
   "metadata": {},
   "outputs": [],
   "source": [
    "def run_tests(df):\n",
    "    data = {}\n",
    "    for row in df.itertuples():\n",
    "        for name, tres in run_test(row).items():\n",
    "            steps_key = name + '_steps'\n",
    "            if data.get(steps_key) == None:\n",
    "                data[steps_key] = [tres.nsteps]\n",
    "            else:\n",
    "                data[steps_key].append(tres.nsteps)\n",
    "            record_key = name + '_record'\n",
    "            if data.get(record_key) == None:\n",
    "                data[record_key] = [tres.record_value]\n",
    "            else:\n",
    "                data[record_key].append(tres.record_value)\n",
    "    print(data)\n",
    "    perf_df = pd.DataFrame(data, index = df.index)\n",
    "    print(perf_df)\n",
    "    print(perf_df.diff(axis = 1, periods = 2))"
   ]
  },
  {
   "cell_type": "code",
   "execution_count": 183,
   "id": "0514af07",
   "metadata": {},
   "outputs": [],
   "source": [
    "def read_problems(fname):\n",
    "    data = pd.read_csv(fname, index_col = 'name', comment = '#')\n",
    "    return data"
   ]
  },
  {
   "cell_type": "markdown",
   "id": "0e317523",
   "metadata": {},
   "source": [
    "Main testing scenario"
   ]
  },
  {
   "cell_type": "code",
   "execution_count": 184,
   "id": "bd09d0ee",
   "metadata": {},
   "outputs": [
    {
     "name": "stdout",
     "output_type": "stream",
     "text": [
      "0.53993\n",
      "1.4095\n",
      "0.99992\n",
      "0.41883\n",
      "0.72143\n",
      "0.4338\n",
      "0.58908\n",
      "0.51048\n",
      "0.6859\n",
      "0.42419\n",
      "{'QLI_steps': [34132, 17300, 24144, 34798, 30838, 25137, 36476, 42372, 33404, 38037], 'QLI_record': [0.5399254341946468, 1.4095020073347462, 0.9999221948603374, 0.4188271304174497, 0.721430293535746, 0.4338045561990427, 0.5890764118896675, 0.5104762148333023, 0.6858992800492817, 0.4241880337618696], 'QLC_steps': [45433, 25564, 29484, 57474, 40140, 62005, 62499, 80981, 49128, 58150], 'QLC_record': [0.5399254341947614, 1.4095020073140274, 0.999922194859383, 0.41882713041736774, 0.7214302935357312, 0.43380455619794905, 0.5890764118897344, 0.5104762148331329, 0.6858992800483061, 0.4241880337619055]}\n",
      "           QLI_steps  QLI_record  QLC_steps  QLC_record\n",
      "name                                                   \n",
      "rshekel_0      34132    0.539925      45433    0.539925\n",
      "rshekel_1      17300    1.409502      25564    1.409502\n",
      "rshekel_2      24144    0.999922      29484    0.999922\n",
      "rshekel_3      34798    0.418827      57474    0.418827\n",
      "rshekel_4      30838    0.721430      40140    0.721430\n",
      "rshekel_5      25137    0.433805      62005    0.433805\n",
      "rshekel_6      36476    0.589076      62499    0.589076\n",
      "rshekel_7      42372    0.510476      80981    0.510476\n",
      "rshekel_8      33404    0.685899      49128    0.685899\n",
      "rshekel_9      38037    0.424188      58150    0.424188\n",
      "           QLI_steps  QLI_record  QLC_steps    QLC_record\n",
      "name                                                     \n",
      "rshekel_0        NaN         NaN      11301  1.145750e-13\n",
      "rshekel_1        NaN         NaN       8264 -2.071876e-11\n",
      "rshekel_2        NaN         NaN       5340 -9.543477e-13\n",
      "rshekel_3        NaN         NaN      22676 -8.193446e-14\n",
      "rshekel_4        NaN         NaN       9302 -1.476597e-14\n",
      "rshekel_5        NaN         NaN      36868 -1.093625e-12\n",
      "rshekel_6        NaN         NaN      26023  6.683543e-14\n",
      "rshekel_7        NaN         NaN      38609 -1.694200e-13\n",
      "rshekel_8        NaN         NaN      15724 -9.755530e-13\n",
      "rshekel_9        NaN         NaN      20113  3.591571e-14\n"
     ]
    }
   ],
   "source": [
    "for file in test_files:\n",
    "    run_tests(read_problems(file))"
   ]
  },
  {
   "cell_type": "code",
   "execution_count": null,
   "id": "64bedd4f",
   "metadata": {},
   "outputs": [],
   "source": []
  },
  {
   "cell_type": "code",
   "execution_count": null,
   "id": "625d0b68",
   "metadata": {},
   "outputs": [],
   "source": []
  },
  {
   "cell_type": "code",
   "execution_count": null,
   "id": "60bb05a1",
   "metadata": {},
   "outputs": [],
   "source": []
  }
 ],
 "metadata": {
  "kernelspec": {
   "display_name": "Python 3 (ipykernel)",
   "language": "python",
   "name": "python3"
  },
  "language_info": {
   "codemirror_mode": {
    "name": "ipython",
    "version": 3
   },
   "file_extension": ".py",
   "mimetype": "text/x-python",
   "name": "python",
   "nbconvert_exporter": "python",
   "pygments_lexer": "ipython3",
   "version": "3.8.10"
  }
 },
 "nbformat": 4,
 "nbformat_minor": 5
}
