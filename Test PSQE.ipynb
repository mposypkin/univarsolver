{
 "cells": [
  {
   "cell_type": "markdown",
   "id": "28ab3071",
   "metadata": {},
   "source": [
    "# Test of Piecewise Smooth Quadratic Estimators"
   ]
  },
  {
   "cell_type": "code",
   "execution_count": 1,
   "id": "84d44548",
   "metadata": {},
   "outputs": [],
   "source": [
    "import sympy as sym\n",
    "import matplotlib.pyplot as plt\n",
    "import numpy as np\n",
    "import interval as ival\n",
    "import psqe as pq"
   ]
  },
  {
   "cell_type": "markdown",
   "id": "76c62d16",
   "metadata": {},
   "source": [
    "Auxiliary plot routine"
   ]
  },
  {
   "cell_type": "code",
   "execution_count": 6,
   "id": "6c727e05",
   "metadata": {},
   "outputs": [],
   "source": [
    "def plot_problem(flist, a, b):\n",
    "    colors = ['r-', 'b-', 'g-', 'y-']\n",
    "    step = (b-a)/1000.\n",
    "    ta = np.arange(a, b + step, step)\n",
    "    num_points = len(ta)\n",
    "    num_funcs = len(flist)\n",
    "    \n",
    "    fta = np.empty([num_funcs, num_points])\n",
    "    print(fta)\n",
    "    \n",
    "    for i in range(num_funcs):\n",
    "        for j in range(num_points):\n",
    "            fta[i,j] = flist[i](ta[j])\n",
    "    lb = np.amin(fta)\n",
    "    ub = np.amax(fta)\n",
    "    d = (ub - lb) * 0.1\n",
    "    for i in range(num_funcs):\n",
    "        plt.plot(ta, fta[i,:], colors[i])\n",
    "    plt.ylim([lb - d,ub + d])\n",
    "    plt.show() "
   ]
  },
  {
   "cell_type": "markdown",
   "id": "5b08695d",
   "metadata": {},
   "source": [
    "Test problem"
   ]
  },
  {
   "cell_type": "code",
   "execution_count": 7,
   "id": "8ea42530",
   "metadata": {},
   "outputs": [
    {
     "name": "stdout",
     "output_type": "stream",
     "text": [
      "x**3 3*x**2 6*x\n",
      "8.0 12.0\n"
     ]
    },
    {
     "data": {
      "text/plain": [
       "[-6.0, 18.0]"
      ]
     },
     "execution_count": 7,
     "metadata": {},
     "output_type": "execute_result"
    }
   ],
   "source": [
    "x = sym.symbols('x')\n",
    "e_f = x**3\n",
    "e_df = sym.diff(e_f)\n",
    "e_ddf = sym.diff(e_df)\n",
    "print(e_f, e_df, e_ddf)\n",
    "f = sym.lambdify(x, e_f)\n",
    "df = sym.lambdify(x, e_df)\n",
    "ddf = sym.lambdify(x, e_ddf)\n",
    "print(f(2.), df(2.))\n",
    "a = -1.\n",
    "b = 3.\n",
    "idef = ival.Interval([a,b])\n",
    "# print(f(idef), df(idef), ddf(idef))\n",
    "ddi = ddf(idef)\n",
    "ddi"
   ]
  },
  {
   "cell_type": "code",
   "execution_count": 11,
   "id": "553741de",
   "metadata": {},
   "outputs": [
    {
     "name": "stdout",
     "output_type": "stream",
     "text": [
      "delt =  2.0\n",
      "delt =  2.0\n",
      "delt =  2.6666666666666665\n",
      "Estimator a = -1.0, b = 3.0, c = 0.6666666666666666, d = 2.6666666666666665, alp = -6.0, bet = 18.0, fa = -1.0, fb = 27.0, dfa = 3.0, dfb = 27.0\n",
      "Estimator a = -1.0, b = 3.0, c = 0.0, d = 2.6666666666666665, alp = -18.0, bet = 18.0, fa = -1.0, fb = 27.0, dfa = 3.0, dfb = 27.0\n"
     ]
    }
   ],
   "source": [
    "\n",
    "estim = pq.PSQE(a, b, ddi.x[0], ddi.x[1], f, df)\n",
    "L = max(abs(ddi.x[0]), abs(ddi.x[1]))\n",
    "# print(L)\n",
    "estim_int = pq.PSQE(a, b, ddi.x[0], ddi.x[1], f, df)\n",
    "estim_lip = pq.PSQE(a, b, -L, L, f, df)\n",
    "print(estim_int)\n",
    "print(estim_lip)"
   ]
  },
  {
   "cell_type": "markdown",
   "id": "8349f7f9",
   "metadata": {},
   "source": [
    "Vizualize test problem"
   ]
  },
  {
   "cell_type": "code",
   "execution_count": 12,
   "id": "8a1468da",
   "metadata": {},
   "outputs": [
    {
     "name": "stdout",
     "output_type": "stream",
     "text": [
      "[[6.94482647e-310 6.94482647e-310 2.40909097e-316 ... 1.62305934e-099\n",
      "  8.36056242e+276 2.92390086e+059]\n",
      " [7.84624598e+020 5.32703958e-081 3.53796805e+280 ... 3.54079784e+083\n",
      "  7.70569341e+222 2.29993130e+117]\n",
      " [3.64387698e-052 1.39935671e+055 1.43383138e+016 ... 1.85937965e+040\n",
      "  7.87360529e+164 2.39535341e+117]]\n"
     ]
    },
    {
     "data": {
      "image/png": "[encoded data removed]",
      "text/plain": [
       "<Figure size 432x288 with 1 Axes>"
      ]
     },
     "metadata": {
      "needs_background": "light"
     },
     "output_type": "display_data"
    }
   ],
   "source": [
    "plot_problem([f,estim_int.underestimator,estim_lip.underestimator], a, b)"
   ]
  },
  {
   "cell_type": "code",
   "execution_count": null,
   "id": "1fda6f8c",
   "metadata": {},
   "outputs": [],
   "source": []
  }
 ],
 "metadata": {
  "kernelspec": {
   "display_name": "Python 3 (ipykernel)",
   "language": "python",
   "name": "python3"
  },
  "language_info": {
   "codemirror_mode": {
    "name": "ipython",
    "version": 3
   },
   "file_extension": ".py",
   "mimetype": "text/x-python",
   "name": "python",
   "nbconvert_exporter": "python",
   "pygments_lexer": "ipython3",
   "version": "3.8.10"
  }
 },
 "nbformat": 4,
 "nbformat_minor": 5
}
