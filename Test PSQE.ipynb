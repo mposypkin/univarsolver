{
 "cells": [
  {
   "cell_type": "markdown",
   "id": "28ab3071",
   "metadata": {},
   "source": [
    "# Test of Piecewise Smooth Quadratic Estimators"
   ]
  },
  {
   "cell_type": "code",
   "execution_count": 21,
   "id": "84d44548",
   "metadata": {},
   "outputs": [],
   "source": [
    "import sympy as sym\n",
    "import matplotlib.pyplot as plt\n",
    "import numpy as np\n",
    "import interval as ival"
   ]
  },
  {
   "cell_type": "markdown",
   "id": "76c62d16",
   "metadata": {},
   "source": [
    "Auxiliary plot routine"
   ]
  },
  {
   "cell_type": "code",
   "execution_count": 22,
   "id": "6c727e05",
   "metadata": {},
   "outputs": [],
   "source": [
    "def plot_problem(f, a, b):\n",
    "    step = (b-a)/1000.\n",
    "    ta = np.arange(a, b + step, step)\n",
    "    ln = len(ta)\n",
    "    fta = np.arange(ln).astype(float)\n",
    "    for i in range(ln):\n",
    "        fta[i] = f(ta[i])\n",
    "    lb = np.amin(fta)\n",
    "    ub = np.amax(fta)\n",
    "    d = (ub - lb) * 0.1\n",
    "    plt.plot(ta, fta, 'r-')\n",
    "    plt.ylim([lb - d,ub + d])\n",
    "    plt.show() "
   ]
  },
  {
   "cell_type": "markdown",
   "id": "5b08695d",
   "metadata": {},
   "source": [
    "Test problem"
   ]
  },
  {
   "cell_type": "code",
   "execution_count": 23,
   "id": "8ea42530",
   "metadata": {},
   "outputs": [
    {
     "name": "stdout",
     "output_type": "stream",
     "text": [
      "x**3 3*x**2 6*x\n",
      "8.0 12.0\n",
      "[-1, 27] [0, 27] [-6, 18]\n"
     ]
    }
   ],
   "source": [
    "x = sym.symbols('x')\n",
    "e_f = x**3\n",
    "e_df = sym.diff(e_f)\n",
    "e_ddf = sym.diff(e_df)\n",
    "print(e_f, e_df, e_ddf)\n",
    "f = sym.lambdify(x, e_f)\n",
    "df = sym.lambdify(x, e_df)\n",
    "ddf = sym.lambdify(x, e_ddf)\n",
    "print(f(2.), df(2.))\n",
    "a = -1\n",
    "b = 3\n",
    "idef = ival.Interval([a,b])\n",
    "print(f(idef), df(idef), ddf(idef))"
   ]
  },
  {
   "cell_type": "markdown",
   "id": "8349f7f9",
   "metadata": {},
   "source": [
    "Vizualize test problem"
   ]
  },
  {
   "cell_type": "code",
   "execution_count": 24,
   "id": "8a1468da",
   "metadata": {},
   "outputs": [
    {
     "data": {
      "image/png": "[encoded data removed]",
      "text/plain": [
       "<Figure size 432x288 with 1 Axes>"
      ]
     },
     "metadata": {
      "needs_background": "light"
     },
     "output_type": "display_data"
    }
   ],
   "source": [
    "plot_problem(f, a, b)"
   ]
  },
  {
   "cell_type": "code",
   "execution_count": null,
   "id": "1fda6f8c",
   "metadata": {},
   "outputs": [],
   "source": []
  }
 ],
 "metadata": {
  "kernelspec": {
   "display_name": "Python 3 (ipykernel)",
   "language": "python",
   "name": "python3"
  },
  "language_info": {
   "codemirror_mode": {
    "name": "ipython",
    "version": 3
   },
   "file_extension": ".py",
   "mimetype": "text/x-python",
   "name": "python",
   "nbconvert_exporter": "python",
   "pygments_lexer": "ipython3",
   "version": "3.8.10"
  }
 },
 "nbformat": 4,
 "nbformat_minor": 5
}
