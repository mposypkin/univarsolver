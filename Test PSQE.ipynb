{
 "cells": [
  {
   "cell_type": "markdown",
   "id": "28ab3071",
   "metadata": {},
   "source": [
    "# Test of Piecewise Smooth Quadratic Estimators"
   ]
  },
  {
   "cell_type": "code",
   "execution_count": 1,
   "id": "84d44548",
   "metadata": {},
   "outputs": [],
   "source": [
    "import sympy as sym\n",
    "import matplotlib.pyplot as plt\n",
    "import numpy as np\n",
    "import interval as ival\n",
    "import psl_under as pl\n",
    "import psqe_under as pq"
   ]
  },
  {
   "cell_type": "markdown",
   "id": "76c62d16",
   "metadata": {},
   "source": [
    "Auxiliary plot routine"
   ]
  },
  {
   "cell_type": "code",
   "execution_count": 13,
   "id": "6c727e05",
   "metadata": {},
   "outputs": [],
   "source": [
    "def plot_problem(flist, minlist, a, b):\n",
    "    colors = ['r-', 'b-', 'g-', 'y-', 'm-', 'c-']\n",
    "    step = (b-a)/1000.\n",
    "    ta = np.arange(a, b + step, step)\n",
    "    num_points = len(ta)\n",
    "    num_funcs = len(flist)\n",
    "    \n",
    "    fta = np.empty([num_funcs, num_points])\n",
    "    print(fta)\n",
    "    \n",
    "    for i in range(num_funcs):\n",
    "        for j in range(num_points):\n",
    "            fta[i,j] = flist[i](ta[j])\n",
    "    lb = np.amin(fta)\n",
    "    ub = np.amax(fta)\n",
    "    d = (ub - lb) * 0.1\n",
    "    for i in range(num_funcs):\n",
    "        plt.plot(ta, fta[i,:], colors[i])\n",
    "    for point in min_list:\n",
    "        plt.scatter(point[0], point[1], s=20)\n",
    "    plt.ylim([lb - d,ub + d])\n",
    "    plt.show() "
   ]
  },
  {
   "cell_type": "markdown",
   "id": "5b08695d",
   "metadata": {},
   "source": [
    "Test problem"
   ]
  },
  {
   "cell_type": "code",
   "execution_count": 17,
   "id": "8ea42530",
   "metadata": {},
   "outputs": [
    {
     "name": "stdout",
     "output_type": "stream",
     "text": [
      "x**3 + 2*x**2 - 4*x + 1 3*x**2 + 4*x - 4 6*x + 4\n",
      "9.0 16.0\n",
      "[-8.0, 16.0] [-2.0, 16.0]\n"
     ]
    }
   ],
   "source": [
    "x = sym.symbols('x')\n",
    "e_f = x**3 + 2 * x**2 - 4 * x + 1\n",
    "e_df = sym.diff(e_f)\n",
    "e_ddf = sym.diff(e_df)\n",
    "print(e_f, e_df, e_ddf)\n",
    "f = sym.lambdify(x, e_f)\n",
    "df = sym.lambdify(x, e_df)\n",
    "ddf = sym.lambdify(x, e_ddf)\n",
    "print(f(2.), df(2.))\n",
    "a = -1.\n",
    "b = 2.\n",
    "idef = ival.Interval([a,b])\n",
    "di = df(idef)\n",
    "\n",
    "# print(f(idef), df(idef), ddf(idef))\n",
    "ddi = ddf(idef)\n",
    "print(di, ddi)"
   ]
  },
  {
   "cell_type": "code",
   "execution_count": 18,
   "id": "553741de",
   "metadata": {},
   "outputs": [
    {
     "name": "stdout",
     "output_type": "stream",
     "text": [
      "Piecewise linear estimator a = -1.0, b = 2.0, c = 0.875, alp = -8.0, bet = 16.0, fa = 6.0, fb = 9.0\n",
      "Piecewise linear estimator a = -1.0, b = 2.0, c = 0.40625, alp = -16.0, bet = 16.0, fa = 6.0, fb = 9.0\n",
      "Estimator a = -1.0, b = 2.0, c = 0.25, d = 1.75, alp = -2.0, bet = 16.0, fa = 6.0, fb = 9.0, dfa = -5.0, dfb = 16.0\n",
      "Estimator a = -1.0, b = 2.0, c = -0.38247282608695654, d = 1.7737771739130435, alp = -16.0, bet = 16.0, fa = 6.0, fb = 9.0, dfa = -5.0, dfb = 16.0\n",
      "(0.5475543478260869, -7.057958707466919)\n",
      "[(0.875, -9.0), (0.40625, -16.5), (0.71875, -3.5703125), (0.5475543478260869, -7.057958707466919)]\n"
     ]
    }
   ],
   "source": [
    "\n",
    "# estim = pq.PSQE_Under(a, b, ddi.x[0], ddi.x[1], f, df)\n",
    "l = max(-di.x[0], di.x[1])\n",
    "L = max(-ddi.x[0], ddi.x[1])\n",
    "# print(L)\n",
    "estim_pl = pl.PSL_Under(a, b, di.x[0], di.x[1], f)\n",
    "estim_plip = pl.PSL_Under(a, b, -l, l, f)\n",
    "estim_int = pq.PSQE_Under(a, b, ddi.x[0], ddi.x[1], f, df)\n",
    "estim_lip = pq.PSQE_Under(a, b, -L, L, f, df)\n",
    "print(estim_pl)\n",
    "print(estim_plip)\n",
    "print(estim_int)\n",
    "print(estim_lip)\n",
    "print(estim_lip.lower_bound_and_point())\n",
    "min_list = [estim_pl.lower_bound_and_point(),estim_plip.lower_bound_and_point(),estim_int.lower_bound_and_point(), estim_lip.lower_bound_and_point()]\n",
    "print(min_list)"
   ]
  },
  {
   "cell_type": "markdown",
   "id": "8349f7f9",
   "metadata": {},
   "source": [
    "Vizualize test problem"
   ]
  },
  {
   "cell_type": "code",
   "execution_count": 19,
   "id": "8a1468da",
   "metadata": {},
   "outputs": [
    {
     "name": "stdout",
     "output_type": "stream",
     "text": [
      "[[ 6.94128854e-310  6.94128854e-310  3.37051425e-316 ...  6.94125075e-310\n",
      "   6.94125075e-310  8.84233738e+028]\n",
      " [ 6.94125075e-310  6.94125075e-310 -2.04533883e-170 ...  1.63296402e-087\n",
      "   6.94125057e-310  6.94125058e-310]\n",
      " [ 9.96100942e+017  6.94125057e-310  6.94125058e-310 ...  6.94119045e-310\n",
      "   1.82444744e+059  6.94121731e-310]\n",
      " [ 6.94119045e-310  1.20192366e+269  6.94121725e-310 ...  0.00000000e+000\n",
      "   0.00000000e+000  0.00000000e+000]\n",
      " [ 0.00000000e+000  0.00000000e+000  0.00000000e+000 ...  6.92957351e-298\n",
      "   3.43937673e-317  6.94118763e-310]]\n"
     ]
    },
    {
     "data": {
      "image/png": "[encoded data removed]",
      "text/plain": [
       "<Figure size 432x288 with 1 Axes>"
      ]
     },
     "metadata": {
      "needs_background": "light"
     },
     "output_type": "display_data"
    }
   ],
   "source": [
    "plot_problem([f,estim_pl.estimator,estim_plip.estimator,estim_int.estimator, estim_lip.estimator], min_list, a, b)"
   ]
  },
  {
   "cell_type": "code",
   "execution_count": null,
   "id": "1fda6f8c",
   "metadata": {},
   "outputs": [],
   "source": []
  },
  {
   "cell_type": "code",
   "execution_count": null,
   "id": "247f225c",
   "metadata": {},
   "outputs": [],
   "source": []
  },
  {
   "cell_type": "code",
   "execution_count": null,
   "id": "8683dffa",
   "metadata": {},
   "outputs": [],
   "source": []
  }
 ],
 "metadata": {
  "kernelspec": {
   "display_name": "Python 3 (ipykernel)",
   "language": "python",
   "name": "python3"
  },
  "language_info": {
   "codemirror_mode": {
    "name": "ipython",
    "version": 3
   },
   "file_extension": ".py",
   "mimetype": "text/x-python",
   "name": "python",
   "nbconvert_exporter": "python",
   "pygments_lexer": "ipython3",
   "version": "3.10.4"
  }
 },
 "nbformat": 4,
 "nbformat_minor": 5
}
