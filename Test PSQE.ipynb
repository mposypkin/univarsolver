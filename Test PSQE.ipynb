{
 "cells": [
  {
   "cell_type": "markdown",
   "id": "28ab3071",
   "metadata": {},
   "source": [
    "# Test of Piecewise Smooth Quadratic Estimators"
   ]
  },
  {
   "cell_type": "code",
   "execution_count": 1,
   "id": "84d44548",
   "metadata": {},
   "outputs": [],
   "source": [
    "import sympy as sym\n",
    "import matplotlib.pyplot as plt\n",
    "import numpy as np\n",
    "import interval as ival\n",
    "import psqe_under as pq"
   ]
  },
  {
   "cell_type": "markdown",
   "id": "76c62d16",
   "metadata": {},
   "source": [
    "Auxiliary plot routine"
   ]
  },
  {
   "cell_type": "code",
   "execution_count": 7,
   "id": "6c727e05",
   "metadata": {},
   "outputs": [],
   "source": [
    "def plot_problem(flist, minlist, a, b):\n",
    "    colors = ['r-', 'b-', 'g-', 'y-']\n",
    "    step = (b-a)/1000.\n",
    "    ta = np.arange(a, b + step, step)\n",
    "    num_points = len(ta)\n",
    "    num_funcs = len(flist)\n",
    "    \n",
    "    fta = np.empty([num_funcs, num_points])\n",
    "    print(fta)\n",
    "    \n",
    "    for i in range(num_funcs):\n",
    "        for j in range(num_points):\n",
    "            fta[i,j] = flist[i](ta[j])\n",
    "    lb = np.amin(fta)\n",
    "    ub = np.amax(fta)\n",
    "    d = (ub - lb) * 0.1\n",
    "    for i in range(num_funcs):\n",
    "        plt.plot(ta, fta[i,:], colors[i])\n",
    "    for point in min_list:\n",
    "        plt.scatter(point[0], point[1], s=20)\n",
    "    plt.ylim([lb - d,ub + d])\n",
    "    plt.show() "
   ]
  },
  {
   "cell_type": "markdown",
   "id": "5b08695d",
   "metadata": {},
   "source": [
    "Test problem"
   ]
  },
  {
   "cell_type": "code",
   "execution_count": 8,
   "id": "8ea42530",
   "metadata": {},
   "outputs": [
    {
     "name": "stdout",
     "output_type": "stream",
     "text": [
      "x**3 3*x**2 6*x\n",
      "8.0 12.0\n"
     ]
    },
    {
     "data": {
      "text/plain": [
       "[-6.0, 18.0]"
      ]
     },
     "execution_count": 8,
     "metadata": {},
     "output_type": "execute_result"
    }
   ],
   "source": [
    "x = sym.symbols('x')\n",
    "e_f = x**3 + \n",
    "e_df = sym.diff(e_f)\n",
    "e_ddf = sym.diff(e_df)\n",
    "print(e_f, e_df, e_ddf)\n",
    "f = sym.lambdify(x, e_f)\n",
    "df = sym.lambdify(x, e_df)\n",
    "ddf = sym.lambdify(x, e_ddf)\n",
    "print(f(2.), df(2.))\n",
    "a = -1.\n",
    "b = 3.\n",
    "idef = ival.Interval([a,b])\n",
    "# print(f(idef), df(idef), ddf(idef))\n",
    "ddi = ddf(idef)\n",
    "ddi"
   ]
  },
  {
   "cell_type": "code",
   "execution_count": 9,
   "id": "553741de",
   "metadata": {},
   "outputs": [
    {
     "name": "stdout",
     "output_type": "stream",
     "text": [
      "delt =  2.0\n",
      "delt =  2.6666666666666665\n",
      "Estimator a = -1.0, b = 3.0, c = 0.6666666666666666, d = 2.6666666666666665, alp = -6.0, bet = 18.0, fa = -1.0, fb = 27.0, dfa = 3.0, dfb = 27.0\n",
      "Estimator a = -1.0, b = 3.0, c = 0.0, d = 2.6666666666666665, alp = -18.0, bet = 18.0, fa = -1.0, fb = 27.0, dfa = 3.0, dfb = 27.0\n",
      "[-1.0, 3.0, 0.8333333333333334]\n",
      "(0.8333333333333334, -13.25)\n",
      "[-1.0, 3.0, 1.0555555555555556]\n",
      "[-1.0, 3.0, 0.8333333333333334]\n",
      "[(1.0555555555555556, -5.694444444444444), (0.8333333333333334, -13.25)]\n"
     ]
    }
   ],
   "source": [
    "\n",
    "# estim = pq.PSQE_Under(a, b, ddi.x[0], ddi.x[1], f, df)\n",
    "L = max(abs(ddi.x[0]), abs(ddi.x[1]))\n",
    "# print(L)\n",
    "estim_int = pq.PSQE_Under(a, b, ddi.x[0], ddi.x[1], f, df)\n",
    "estim_lip = pq.PSQE_Under(a, b, -L, L, f, df)\n",
    "print(estim_int)\n",
    "print(estim_lip)\n",
    "print(estim_lip.lower_bound_and_point())\n",
    "min_list = [estim_int.lower_bound_and_point(), estim_lip.lower_bound_and_point()]\n",
    "print(min_list)"
   ]
  },
  {
   "cell_type": "markdown",
   "id": "8349f7f9",
   "metadata": {},
   "source": [
    "Vizualize test problem"
   ]
  },
  {
   "cell_type": "code",
   "execution_count": 10,
   "id": "8a1468da",
   "metadata": {},
   "outputs": [
    {
     "name": "stdout",
     "output_type": "stream",
     "text": [
      "[[ 6.92546054e-310  6.92546054e-310  2.78952942e-316 ...  6.92542732e-310\n",
      "  -1.86159089e+239  6.92545711e-310]\n",
      " [ 6.92542732e-310  6.28402100e-294  6.92545942e-310 ...  6.92545192e-310\n",
      "   6.92542143e-310 -7.26921221e+071]\n",
      " [ 6.92545192e-310  6.92542143e-310  2.15040010e+120 ...  4.83638884e-317\n",
      "  -3.11576523e+256  6.92542160e-310]]\n"
     ]
    },
    {
     "data": {
      "image/png": "[encoded data removed]",
      "text/plain": [
       "<Figure size 432x288 with 1 Axes>"
      ]
     },
     "metadata": {
      "needs_background": "light"
     },
     "output_type": "display_data"
    }
   ],
   "source": [
    "plot_problem([f,estim_int.estimator,estim_lip.estimator], min_list, a, b)"
   ]
  },
  {
   "cell_type": "code",
   "execution_count": null,
   "id": "1fda6f8c",
   "metadata": {},
   "outputs": [],
   "source": []
  }
 ],
 "metadata": {
  "kernelspec": {
   "display_name": "Python 3 (ipykernel)",
   "language": "python",
   "name": "python3"
  },
  "language_info": {
   "codemirror_mode": {
    "name": "ipython",
    "version": 3
   },
   "file_extension": ".py",
   "mimetype": "text/x-python",
   "name": "python",
   "nbconvert_exporter": "python",
   "pygments_lexer": "ipython3",
   "version": "3.8.10"
  }
 },
 "nbformat": 4,
 "nbformat_minor": 5
}
